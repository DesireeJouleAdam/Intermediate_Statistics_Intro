{
 "cells": [
  {
   "cell_type": "markdown",
   "id": "fc157229",
   "metadata": {},
   "source": [
    "#### Requirements:\n",
    "Determine if the mean miles per gallon changes from 2012 to 2013. "
   ]
  },
  {
   "cell_type": "markdown",
   "id": "b83a38fd",
   "metadata": {},
   "source": [
    "#### Import Packages"
   ]
  },
  {
   "cell_type": "code",
   "execution_count": 1,
   "id": "0506f104",
   "metadata": {},
   "outputs": [],
   "source": [
    "import pandas as pd\n",
    "from scipy import stats"
   ]
  },
  {
   "cell_type": "markdown",
   "id": "eee021aa",
   "metadata": {},
   "source": [
    "#### Import Data"
   ]
  },
  {
   "cell_type": "code",
   "execution_count": 2,
   "id": "69b05f55",
   "metadata": {},
   "outputs": [
    {
     "data": {
      "text/html": [
       "<div>\n",
       "<style scoped>\n",
       "    .dataframe tbody tr th:only-of-type {\n",
       "        vertical-align: middle;\n",
       "    }\n",
       "\n",
       "    .dataframe tbody tr th {\n",
       "        vertical-align: top;\n",
       "    }\n",
       "\n",
       "    .dataframe thead th {\n",
       "        text-align: right;\n",
       "    }\n",
       "</style>\n",
       "<table border=\"1\" class=\"dataframe\">\n",
       "  <thead>\n",
       "    <tr style=\"text-align: right;\">\n",
       "      <th></th>\n",
       "      <th>vehicle</th>\n",
       "      <th>msrp2012</th>\n",
       "      <th>accelrate2012</th>\n",
       "      <th>mpg2012</th>\n",
       "      <th>mpgmpge2012</th>\n",
       "      <th>carclass2012</th>\n",
       "      <th>carclass_id2012</th>\n",
       "      <th>msrp2013</th>\n",
       "      <th>accelrate2013</th>\n",
       "      <th>mpg2013</th>\n",
       "      <th>mpgmpge2013</th>\n",
       "      <th>carclass2013</th>\n",
       "      <th>carclass_id2013</th>\n",
       "    </tr>\n",
       "  </thead>\n",
       "  <tbody>\n",
       "    <tr>\n",
       "      <th>0</th>\n",
       "      <td>ActiveHybrid 3</td>\n",
       "      <td>19006.62</td>\n",
       "      <td>9.35</td>\n",
       "      <td>50</td>\n",
       "      <td>50</td>\n",
       "      <td>C</td>\n",
       "      <td>1</td>\n",
       "      <td>19080</td>\n",
       "      <td>8.70</td>\n",
       "      <td>50</td>\n",
       "      <td>50</td>\n",
       "      <td>C</td>\n",
       "      <td>1</td>\n",
       "    </tr>\n",
       "    <tr>\n",
       "      <th>1</th>\n",
       "      <td>ActiveHybrid 5</td>\n",
       "      <td>32095.61</td>\n",
       "      <td>8.82</td>\n",
       "      <td>50</td>\n",
       "      <td>95</td>\n",
       "      <td>M</td>\n",
       "      <td>3</td>\n",
       "      <td>24995</td>\n",
       "      <td>12.66</td>\n",
       "      <td>45</td>\n",
       "      <td>45</td>\n",
       "      <td>C</td>\n",
       "      <td>1</td>\n",
       "    </tr>\n",
       "    <tr>\n",
       "      <th>2</th>\n",
       "      <td>Ampera</td>\n",
       "      <td>31739.55</td>\n",
       "      <td>11.11</td>\n",
       "      <td>37</td>\n",
       "      <td>98</td>\n",
       "      <td>C</td>\n",
       "      <td>1</td>\n",
       "      <td>24200</td>\n",
       "      <td>10.20</td>\n",
       "      <td>50</td>\n",
       "      <td>50</td>\n",
       "      <td>M</td>\n",
       "      <td>3</td>\n",
       "    </tr>\n",
       "    <tr>\n",
       "      <th>3</th>\n",
       "      <td>Camry LE</td>\n",
       "      <td>62180.23</td>\n",
       "      <td>16.67</td>\n",
       "      <td>26</td>\n",
       "      <td>26</td>\n",
       "      <td>M</td>\n",
       "      <td>3</td>\n",
       "      <td>18600</td>\n",
       "      <td>11.76</td>\n",
       "      <td>42</td>\n",
       "      <td>42</td>\n",
       "      <td>C</td>\n",
       "      <td>1</td>\n",
       "    </tr>\n",
       "    <tr>\n",
       "      <th>4</th>\n",
       "      <td>Chevrolet Volt</td>\n",
       "      <td>59126.14</td>\n",
       "      <td>16.95</td>\n",
       "      <td>31</td>\n",
       "      <td>31</td>\n",
       "      <td>M</td>\n",
       "      <td>3</td>\n",
       "      <td>69850</td>\n",
       "      <td>16.39</td>\n",
       "      <td>21</td>\n",
       "      <td>21</td>\n",
       "      <td>SUV</td>\n",
       "      <td>6</td>\n",
       "    </tr>\n",
       "    <tr>\n",
       "      <th>5</th>\n",
       "      <td>Insight</td>\n",
       "      <td>18555.28</td>\n",
       "      <td>9.42</td>\n",
       "      <td>42</td>\n",
       "      <td>42</td>\n",
       "      <td>C</td>\n",
       "      <td>1</td>\n",
       "      <td>62575</td>\n",
       "      <td>16.13</td>\n",
       "      <td>21</td>\n",
       "      <td>21</td>\n",
       "      <td>SUV</td>\n",
       "      <td>6</td>\n",
       "    </tr>\n",
       "    <tr>\n",
       "      <th>6</th>\n",
       "      <td>LaCrosse</td>\n",
       "      <td>39261.96</td>\n",
       "      <td>11.11</td>\n",
       "      <td>37</td>\n",
       "      <td>94</td>\n",
       "      <td>C</td>\n",
       "      <td>1</td>\n",
       "      <td>74425</td>\n",
       "      <td>11.63</td>\n",
       "      <td>21</td>\n",
       "      <td>21</td>\n",
       "      <td>SUV</td>\n",
       "      <td>6</td>\n",
       "    </tr>\n",
       "    <tr>\n",
       "      <th>7</th>\n",
       "      <td>M35h</td>\n",
       "      <td>34858.84</td>\n",
       "      <td>11.49</td>\n",
       "      <td>39</td>\n",
       "      <td>39</td>\n",
       "      <td>M</td>\n",
       "      <td>3</td>\n",
       "      <td>53620</td>\n",
       "      <td>11.90</td>\n",
       "      <td>21</td>\n",
       "      <td>21</td>\n",
       "      <td>SUV</td>\n",
       "      <td>6</td>\n",
       "    </tr>\n",
       "    <tr>\n",
       "      <th>8</th>\n",
       "      <td>MKZ FWD</td>\n",
       "      <td>53860.45</td>\n",
       "      <td>19.23</td>\n",
       "      <td>29</td>\n",
       "      <td>29</td>\n",
       "      <td>M</td>\n",
       "      <td>3</td>\n",
       "      <td>61960</td>\n",
       "      <td>13.33</td>\n",
       "      <td>21</td>\n",
       "      <td>21</td>\n",
       "      <td>SUV</td>\n",
       "      <td>6</td>\n",
       "    </tr>\n",
       "    <tr>\n",
       "      <th>9</th>\n",
       "      <td>Panamera S</td>\n",
       "      <td>30049.52</td>\n",
       "      <td>11.36</td>\n",
       "      <td>29</td>\n",
       "      <td>29</td>\n",
       "      <td>M</td>\n",
       "      <td>3</td>\n",
       "      <td>39250</td>\n",
       "      <td>12.35</td>\n",
       "      <td>40</td>\n",
       "      <td>40</td>\n",
       "      <td>M</td>\n",
       "      <td>3</td>\n",
       "    </tr>\n",
       "    <tr>\n",
       "      <th>10</th>\n",
       "      <td>Prius C</td>\n",
       "      <td>61132.11</td>\n",
       "      <td>17.54</td>\n",
       "      <td>26</td>\n",
       "      <td>26</td>\n",
       "      <td>M</td>\n",
       "      <td>3</td>\n",
       "      <td>28900</td>\n",
       "      <td>9.26</td>\n",
       "      <td>38</td>\n",
       "      <td>38</td>\n",
       "      <td>C</td>\n",
       "      <td>1</td>\n",
       "    </tr>\n",
       "    <tr>\n",
       "      <th>11</th>\n",
       "      <td>Prius PHV</td>\n",
       "      <td>95283.85</td>\n",
       "      <td>17.54</td>\n",
       "      <td>25</td>\n",
       "      <td>25</td>\n",
       "      <td>L</td>\n",
       "      <td>2</td>\n",
       "      <td>49650</td>\n",
       "      <td>14.93</td>\n",
       "      <td>28</td>\n",
       "      <td>28</td>\n",
       "      <td>C</td>\n",
       "      <td>1</td>\n",
       "    </tr>\n",
       "    <tr>\n",
       "      <th>12</th>\n",
       "      <td>Yukon 1500</td>\n",
       "      <td>52626.77</td>\n",
       "      <td>13.50</td>\n",
       "      <td>21</td>\n",
       "      <td>21</td>\n",
       "      <td>SUV</td>\n",
       "      <td>6</td>\n",
       "      <td>39145</td>\n",
       "      <td>11.11</td>\n",
       "      <td>37</td>\n",
       "      <td>98</td>\n",
       "      <td>C</td>\n",
       "      <td>1</td>\n",
       "    </tr>\n",
       "  </tbody>\n",
       "</table>\n",
       "</div>"
      ],
      "text/plain": [
       "           vehicle  msrp2012  accelrate2012  mpg2012  mpgmpge2012  \\\n",
       "0   ActiveHybrid 3  19006.62           9.35       50           50   \n",
       "1   ActiveHybrid 5  32095.61           8.82       50           95   \n",
       "2           Ampera  31739.55          11.11       37           98   \n",
       "3         Camry LE  62180.23          16.67       26           26   \n",
       "4   Chevrolet Volt  59126.14          16.95       31           31   \n",
       "5          Insight  18555.28           9.42       42           42   \n",
       "6         LaCrosse  39261.96          11.11       37           94   \n",
       "7             M35h  34858.84          11.49       39           39   \n",
       "8          MKZ FWD  53860.45          19.23       29           29   \n",
       "9       Panamera S  30049.52          11.36       29           29   \n",
       "10         Prius C  61132.11          17.54       26           26   \n",
       "11       Prius PHV  95283.85          17.54       25           25   \n",
       "12      Yukon 1500  52626.77          13.50       21           21   \n",
       "\n",
       "   carclass2012  carclass_id2012  msrp2013  accelrate2013  mpg2013  \\\n",
       "0             C                1     19080           8.70       50   \n",
       "1             M                3     24995          12.66       45   \n",
       "2             C                1     24200          10.20       50   \n",
       "3             M                3     18600          11.76       42   \n",
       "4             M                3     69850          16.39       21   \n",
       "5             C                1     62575          16.13       21   \n",
       "6             C                1     74425          11.63       21   \n",
       "7             M                3     53620          11.90       21   \n",
       "8             M                3     61960          13.33       21   \n",
       "9             M                3     39250          12.35       40   \n",
       "10            M                3     28900           9.26       38   \n",
       "11            L                2     49650          14.93       28   \n",
       "12          SUV                6     39145          11.11       37   \n",
       "\n",
       "    mpgmpge2013 carclass2013  carclass_id2013  \n",
       "0            50            C                1  \n",
       "1            45            C                1  \n",
       "2            50            M                3  \n",
       "3            42            C                1  \n",
       "4            21          SUV                6  \n",
       "5            21          SUV                6  \n",
       "6            21          SUV                6  \n",
       "7            21          SUV                6  \n",
       "8            21          SUV                6  \n",
       "9            40            M                3  \n",
       "10           38            C                1  \n",
       "11           28            C                1  \n",
       "12           98            C                1  "
      ]
     },
     "execution_count": 2,
     "metadata": {},
     "output_type": "execute_result"
    }
   ],
   "source": [
    "hybrid201213 = pd.read_csv('C:/Users/desja/python_course/hybrid201213.csv')\n",
    "hybrid201213"
   ]
  },
  {
   "cell_type": "markdown",
   "id": "95640d00",
   "metadata": {},
   "source": [
    "#### Test Assumptions"
   ]
  },
  {
   "cell_type": "code",
   "execution_count": 3,
   "id": "7bb28270",
   "metadata": {},
   "outputs": [
    {
     "data": {
      "text/plain": [
       "<Axes: >"
      ]
     },
     "execution_count": 3,
     "metadata": {},
     "output_type": "execute_result"
    },
    {
     "data": {
      "image/png": "[encoded data removed]",
      "text/plain": [
       "<Figure size 640x480 with 1 Axes>"
      ]
     },
     "metadata": {},
     "output_type": "display_data"
    }
   ],
   "source": [
    "hybrid201213['mpg2012'].hist()"
   ]
  },
  {
   "cell_type": "code",
   "execution_count": 4,
   "id": "5c49c17d",
   "metadata": {},
   "outputs": [
    {
     "data": {
      "text/plain": [
       "<Axes: >"
      ]
     },
     "execution_count": 4,
     "metadata": {},
     "output_type": "execute_result"
    },
    {
     "data": {
      "image/png": "[encoded data removed]",
      "text/plain": [
       "<Figure size 640x480 with 1 Axes>"
      ]
     },
     "metadata": {},
     "output_type": "display_data"
    }
   ],
   "source": [
    "hybrid201213['mpg2013'].hist()"
   ]
  },
  {
   "cell_type": "markdown",
   "id": "d11936d0",
   "metadata": {},
   "source": [
    "#### Results:\n",
    "The graphs are not normally distributed"
   ]
  },
  {
   "cell_type": "markdown",
   "id": "0781fdff",
   "metadata": {},
   "source": [
    "#### Run the Analysis"
   ]
  },
  {
   "cell_type": "code",
   "execution_count": 5,
   "id": "8a699da5",
   "metadata": {},
   "outputs": [
    {
     "data": {
      "text/plain": [
       "TtestResult(statistic=0.14466598084438315, pvalue=0.8873759030512349, df=12)"
      ]
     },
     "execution_count": 5,
     "metadata": {},
     "output_type": "execute_result"
    }
   ],
   "source": [
    "stats.ttest_rel(hybrid201213['mpg2012'], hybrid201213['mpg2013'])"
   ]
  },
  {
   "cell_type": "code",
   "execution_count": null,
   "id": "29814ba6",
   "metadata": {},
   "outputs": [],
   "source": [
    "#### Results:\n",
    "The pvalue which is higher than .05 shows that there is so significant changes in mean miles per gallon from 2012 to 2013."
   ]
  }
 ],
 "metadata": {
  "kernelspec": {
   "display_name": "Python 3 (ipykernel)",
   "language": "python",
   "name": "python3"
  },
  "language_info": {
   "codemirror_mode": {
    "name": "ipython",
    "version": 3
   },
   "file_extension": ".py",
   "mimetype": "text/x-python",
   "name": "python",
   "nbconvert_exporter": "python",
   "pygments_lexer": "ipython3",
   "version": "3.11.5"
  }
 },
 "nbformat": 4,
 "nbformat_minor": 5
}
