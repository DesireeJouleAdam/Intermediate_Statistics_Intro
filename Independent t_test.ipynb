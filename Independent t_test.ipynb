{
 "cells": [
  {
   "cell_type": "markdown",
   "id": "ce3dea3a",
   "metadata": {},
   "source": [
    "#### To determing whether the fairway percentage from Aaron Baddeley is significantly different than Ben Crane using an independent t-test"
   ]
  },
  {
   "cell_type": "markdown",
   "id": "1851e844",
   "metadata": {},
   "source": [
    "### Import packages\n",
    "Pandas to import the data and look at a basic histogram\n",
    "Stats and ttest from scipy to do the t-tests. Norm is only for single tests\n"
   ]
  },
  {
   "cell_type": "code",
   "execution_count": 1,
   "id": "0ceb89a1",
   "metadata": {},
   "outputs": [],
   "source": [
    "import pandas as pd\n",
    "from scipy import stats\n",
    "from scipy.stats import ttest_ind"
   ]
  },
  {
   "cell_type": "markdown",
   "id": "a0e3e357",
   "metadata": {},
   "source": [
    "### Import the data set but prepare to wrangle"
   ]
  },
  {
   "cell_type": "markdown",
   "id": "283cfefa",
   "metadata": {},
   "source": [
    "#### Test for the assumption of normalities\n",
    "This can be done with simple histogram command in pandas but since you are comparing certain values from\n",
    "a column with each other it gets a little more complex. It's even more complex because of the spaces in the column names\n",
    "\n",
    "- First specify dataFrame name, then column of interest that contains dependent variable with the mean you are comparing in brackets\n",
    "golf['Fairway Percentage']\n",
    "- Then do the same again with your independent variable which is the categories you are comparing, using the same format you did before.\n",
    "DataFrame name followed by the variable name\n",
    "[golf['Player Name']== 'Aaron Baddeley']\n",
    "in between the two brackets you need double equal signs because you are going to specify that you want to do a histogram just for data for Aaron Baddeley.\n",
    "then add the .hist()\n",
    "golf['Fairway Percentage'][golf['Player Name']== 'Aaron Baddeley'].hist()\n",
    "You want to do the same for the next player\n",
    "golf['Fairway Percentage'][golf['Player Name']== 'Ben Crane'].hist()"
   ]
  },
  {
   "cell_type": "markdown",
   "id": "a364f546",
   "metadata": {},
   "source": [
    "#### Results\n",
    "Looking at the data, neither are normally distributed but proceed for now - you will learn how to make things more normally distributed later."
   ]
  },
  {
   "cell_type": "markdown",
   "id": "9bae7334",
   "metadata": {},
   "source": [
    "#### Run the Analysis\n",
    "\n",
    "Similar to the histagram code above you can copy and past but seperate the info with a 'comma'. This indicates to Python that you are comparing them to each other\n",
    "\n",
    "ttest_ind(golf['Fairway Percentage'][golf['Player Name']== 'Aaron Baddeley'],golf['Fairway Percentage'][golf['Player Name']== 'Ben Crane'])\n",
    "p-value is less than .05 so there is a significant difference btw the two players"
   ]
  },
  {
   "cell_type": "markdown",
   "id": "bf3909ed",
   "metadata": {},
   "source": [
    "### Who had a better fairway percentage tho - look at means\n",
    "\n",
    "golf['Fairway Percentage'][golf['Player Name']== 'Aaron Baddeley'].mean()\n",
    "- 53.427777\n",
    "\n",
    "golf['Fairway Percentage'][golf['Player Name']== 'Ben Crane'].mean()\n",
    "- 66.227777"
   ]
  },
  {
   "cell_type": "markdown",
   "id": "f0cb5370",
   "metadata": {},
   "source": [
    "#### Results\n",
    "Looks like Ben Crane had a much higher percentage than Aaron Baddeley so he is the next up and coming player to look out for - at least comparing btw the two"
   ]
  }
 ],
 "metadata": {
  "kernelspec": {
   "display_name": "Python 3 (ipykernel)",
   "language": "python",
   "name": "python3"
  },
  "language_info": {
   "codemirror_mode": {
    "name": "ipython",
    "version": 3
   },
   "file_extension": ".py",
   "mimetype": "text/x-python",
   "name": "python",
   "nbconvert_exporter": "python",
   "pygments_lexer": "ipython3",
   "version": "3.11.5"
  }
 },
 "nbformat": 4,
 "nbformat_minor": 5
}
