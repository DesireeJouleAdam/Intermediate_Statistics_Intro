{
 "cells": [
  {
   "cell_type": "markdown",
   "id": "9254ec8b",
   "metadata": {},
   "source": [
    "#### Example\n",
    "To determine whether the building status influences the ability to conform with disability regulations using an independent Chi-Square"
   ]
  },
  {
   "cell_type": "markdown",
   "id": "1f4f1fb4",
   "metadata": {},
   "source": [
    "#### Import Packages\n",
    "Only need pandas and stats form scipy"
   ]
  },
  {
   "cell_type": "code",
   "execution_count": null,
   "id": "90f94290",
   "metadata": {},
   "outputs": [],
   "source": [
    "#### Import Data\n",
    "This is data collected from the US government about the condition their buildings are in "
   ]
  },
  {
   "cell_type": "markdown",
   "id": "cfde7be6",
   "metadata": {},
   "source": [
    "#### Exercise\n",
    "dataFrame = pd.read_csv(directory path with backslashes)\n",
    "dataFrame.head()\n",
    "Example: government_buildings.head()\n",
    "Now that you have the data in you will need to create a crosstab or contingincy table with the two variables you are interested in\n",
    "The table can easily be made from pandas.crosstab, the arguments are just the dataFrame name and the variable you are interested in.\n",
    "\n",
    "#### Note:\n",
    "It's important to create a crosstab first because the code for doing Chi-Squares in Python requires a crosstab not raw data"
   ]
  },
  {
   "cell_type": "markdown",
   "id": "8e86c22b",
   "metadata": {},
   "source": [
    "#### Exercise\n",
    "New DataFram to include the word crosstab, function pd.crosstab, in () is original dataFrame[column], original dataFrame[column]\n",
    "buildings_crosstab = pd.crosstab(government_buildings['Bldg Status'], government_buildings['ABA Accessibility Flag'])\n",
    "If the error is a column name e.g. spaces\n",
    "You need to call it to view it:\n",
    "buildings_crosstab\n",
    "\n",
    "stats.chi2_contingency - the only argument you need in ()is the name of the crosstab you just created\n",
    "#### Example\n",
    "stats.chi2_contingency(buildings_crosstab)\n",
    "- 1st number = chi Square stat\n",
    "- 2nd number = pvalue for the chi square (Remember the results are written in scientific notation and you need to make room for decimal places. If it is less than 0.05 there is a significant influence of building status on conforming with disability accessibility standard) is very very small\n",
    "- 3rd Array portion = expected couns in cells. This is what would happen if there was NO relationship between the variables. You want all values to be over 5 in order to meet the assumption for your Chi Square. Not all of them are...which has a value of .04 when you change it out of scientific notation\n",
    "that means that it wasnt really appropriate to run the analysis, and that should proceed with extreme caution, look at different variables, run a different test or augment the sample size\n"
   ]
  }
 ],
 "metadata": {
  "kernelspec": {
   "display_name": "Python 3 (ipykernel)",
   "language": "python",
   "name": "python3"
  },
  "language_info": {
   "codemirror_mode": {
    "name": "ipython",
    "version": 3
   },
   "file_extension": ".py",
   "mimetype": "text/x-python",
   "name": "python",
   "nbconvert_exporter": "python",
   "pygments_lexer": "ipython3",
   "version": "3.11.5"
  }
 },
 "nbformat": 4,
 "nbformat_minor": 5
}
