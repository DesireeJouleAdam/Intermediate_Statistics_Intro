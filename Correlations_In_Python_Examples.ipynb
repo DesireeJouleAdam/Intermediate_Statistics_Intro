{
 "cells": [
  {
   "cell_type": "markdown",
   "id": "467f1cf6",
   "metadata": {},
   "source": [
    "#### Conduct Correlations\n",
    "Examine PGA Golfing to see how variables relate to each other using correlation"
   ]
  },
  {
   "cell_type": "code",
   "execution_count": null,
   "id": "94dcf439",
   "metadata": {},
   "outputs": [],
   "source": [
    "### Import Packages\n",
    "import pandas as pd (takes care of the correlation part)\n",
    "import matplotlib.pyplot as plt\n",
    "import seaborn as sns"
   ]
  },
  {
   "cell_type": "markdown",
   "id": "4328cd6d",
   "metadata": {},
   "source": [
    "#### Import Data and view"
   ]
  },
  {
   "cell_type": "markdown",
   "id": "5ddc4e37",
   "metadata": {},
   "source": [
    "#### Task\n",
    "Specifically isolate 2 variables to check for the relationship between them. Say you want to determine how the Fairway Percentage and the average distance relates to each other\n",
    "dataFrame and name of one variable .corr and dataFrame with other variable\n",
    "\n",
    "golf['Fairway Percentage'].corr(golf['Avg Distance'])\n",
    "\n",
    "Results:\n",
    "Python outputs just the R-value for you. At -0.5333 this is a moderately strong negative correlation which means that as Fairway Percentage goes up the Average Distance goes down and vice versa"
   ]
  },
  {
   "cell_type": "markdown",
   "id": "d23048f5",
   "metadata": {},
   "source": [
    "#### Create a Correlation Matrix\n",
    "Allows you to look at correlations of many variables at once. \n",
    "\n",
    "#### Note:\n",
    "However you cant do this on a dataFrame unless you have only continuous variables. So you need to drop anything that is categorical or a string\n",
    "In the case of the PGA golfing data set it was just the 'Player Name'\n",
    "\n",
    "To drop this column, use pandas .drop function, inside the brackets and in quotes you put the name of anything you want to drop then you want to \n",
    "specify axis=1 which is how you tell Python to drop the columns and not the rows. Make sure to view the data set to check if the command worked\n",
    "golf1 = golf.drop(['Player Name'], axis=1)\n",
    "golf1.head()\n",
    "\n",
    "The method = argument allows you to specify what type of correlation you want to use. The most common correlation is Pearson\n",
    "golf1.corr(method='pearson')\n",
    "\n",
    "#### Output\n",
    "Correlation of each variable with every other variable. Each variable correlates with itself perfectly so you get a line of 1's all the way down the matrix.\n",
    "You can choose to read to right at the top or to the left but only need to pay attention to half the table as both sides are the same.\n",
    "\n",
    "Rather than all these numbers...add code to show a colourful table\n",
    "golf.corr(method='pearson').style.format(\"{:.2}\").background_gradient(cmap=plt.get_cmap('coolwarm'), axis=1)\n",
    "You can very easily see the row of 1's all highlighted\n",
    "The warmer colours (shades of red or pink) are positive correlations and the darker the colour the stronger the correlation\n",
    "The cooler colours (shades of blue) are negative correlations and teh stronger the correlation the deeper or more vibrant the color\n",
    "Looked like the Average Score Correlates with a number of different things"
   ]
  },
  {
   "cell_type": "code",
   "execution_count": null,
   "id": "422f3438",
   "metadata": {},
   "outputs": [],
   "source": [
    "You can also do correlations without fuss by using seaborn heatmap function - annote=True\n",
    "\n",
    "snsheatmap(golf1.corr(). annot=True)\n",
    "\n",
    "It is easy but not best for reading esp if you have a lot of variables. Choose the ones that make the right sense for your data and the task at hand."
   ]
  }
 ],
 "metadata": {
  "kernelspec": {
   "display_name": "Python 3 (ipykernel)",
   "language": "python",
   "name": "python3"
  },
  "language_info": {
   "codemirror_mode": {
    "name": "ipython",
    "version": 3
   },
   "file_extension": ".py",
   "mimetype": "text/x-python",
   "name": "python",
   "nbconvert_exporter": "python",
   "pygments_lexer": "ipython3",
   "version": "3.11.5"
  }
 },
 "nbformat": 4,
 "nbformat_minor": 5
}
