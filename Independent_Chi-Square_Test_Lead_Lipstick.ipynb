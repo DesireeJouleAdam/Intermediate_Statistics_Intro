{
 "cells": [
  {
   "cell_type": "markdown",
   "id": "c5ceb8df",
   "metadata": {},
   "source": [
    "#### Independent Chi-Square\n",
    "An independent Chi-Square is used when you want to determine whether two categorical variables influence each other.\n",
    "\n",
    "The assumption for Chi-Square is expected values of each cell is greater than 5\n",
    "\n",
    "A conginency table is necessary to run a Chi-Square in Python"
   ]
  },
  {
   "cell_type": "markdown",
   "id": "df99bbd7",
   "metadata": {},
   "source": [
    "#### Import Packages"
   ]
  },
  {
   "cell_type": "code",
   "execution_count": 1,
   "id": "7ccd16d7",
   "metadata": {},
   "outputs": [],
   "source": [
    "import pandas as pd\n",
    "from scipy import stats"
   ]
  },
  {
   "cell_type": "markdown",
   "id": "3a2de355",
   "metadata": {},
   "source": [
    "#### Import Data\n",
    "The data located here is about the lipstick content in lead. However, it contains some great categorical fields that you'll be using. The first is product type, prodType and it has two levels: LP is lipstick, and LG is lip gloss. The second is price category, priceCatgry, and it has three levels:\n",
    "\n",
    "1: < 5 euros\n",
    "2: 5-15 euros\n",
    "3: > 15 euros"
   ]
  },
  {
   "cell_type": "markdown",
   "id": "18bd0702",
   "metadata": {},
   "source": [
    "#### Requirements\n",
    "You will test to see if the price of the product depends on whether it is a lip stick or a lip gloss."
   ]
  },
  {
   "cell_type": "code",
   "execution_count": 2,
   "id": "1cf8a1e8",
   "metadata": {},
   "outputs": [
    {
     "data": {
      "text/html": [
       "<div>\n",
       "<style scoped>\n",
       "    .dataframe tbody tr th:only-of-type {\n",
       "        vertical-align: middle;\n",
       "    }\n",
       "\n",
       "    .dataframe tbody tr th {\n",
       "        vertical-align: top;\n",
       "    }\n",
       "\n",
       "    .dataframe thead th {\n",
       "        text-align: right;\n",
       "    }\n",
       "</style>\n",
       "<table border=\"1\" class=\"dataframe\">\n",
       "  <thead>\n",
       "    <tr style=\"text-align: right;\">\n",
       "      <th></th>\n",
       "      <th>JRC_code</th>\n",
       "      <th>purchCntry</th>\n",
       "      <th>prodCntry</th>\n",
       "      <th>Pb</th>\n",
       "      <th>sdPb</th>\n",
       "      <th>shade</th>\n",
       "      <th>prodType</th>\n",
       "      <th>priceCatgry</th>\n",
       "    </tr>\n",
       "  </thead>\n",
       "  <tbody>\n",
       "    <tr>\n",
       "      <th>0</th>\n",
       "      <td>C135</td>\n",
       "      <td>NL</td>\n",
       "      <td>NL</td>\n",
       "      <td>3.75</td>\n",
       "      <td>0.24</td>\n",
       "      <td>Red</td>\n",
       "      <td>LP</td>\n",
       "      <td>2</td>\n",
       "    </tr>\n",
       "    <tr>\n",
       "      <th>1</th>\n",
       "      <td>C18</td>\n",
       "      <td>FI</td>\n",
       "      <td>FI</td>\n",
       "      <td>2.29</td>\n",
       "      <td>0.07</td>\n",
       "      <td>Red</td>\n",
       "      <td>LP</td>\n",
       "      <td>2</td>\n",
       "    </tr>\n",
       "    <tr>\n",
       "      <th>2</th>\n",
       "      <td>C20</td>\n",
       "      <td>FI</td>\n",
       "      <td>IT</td>\n",
       "      <td>1.27</td>\n",
       "      <td>0.06</td>\n",
       "      <td>Red</td>\n",
       "      <td>LP</td>\n",
       "      <td>2</td>\n",
       "    </tr>\n",
       "    <tr>\n",
       "      <th>3</th>\n",
       "      <td>C164</td>\n",
       "      <td>DE</td>\n",
       "      <td>FR</td>\n",
       "      <td>1.21</td>\n",
       "      <td>0.06</td>\n",
       "      <td>Red</td>\n",
       "      <td>LP</td>\n",
       "      <td>2</td>\n",
       "    </tr>\n",
       "    <tr>\n",
       "      <th>4</th>\n",
       "      <td>C71</td>\n",
       "      <td>MT</td>\n",
       "      <td>UK</td>\n",
       "      <td>0.85</td>\n",
       "      <td>0.04</td>\n",
       "      <td>Red</td>\n",
       "      <td>LP</td>\n",
       "      <td>2</td>\n",
       "    </tr>\n",
       "  </tbody>\n",
       "</table>\n",
       "</div>"
      ],
      "text/plain": [
       "  JRC_code purchCntry prodCntry    Pb  sdPb shade prodType  priceCatgry\n",
       "0     C135         NL        NL  3.75  0.24   Red       LP            2\n",
       "1      C18         FI        FI  2.29  0.07   Red       LP            2\n",
       "2      C20         FI        IT  1.27  0.06   Red       LP            2\n",
       "3     C164         DE        FR  1.21  0.06   Red       LP            2\n",
       "4      C71         MT        UK  0.85  0.04   Red       LP            2"
      ]
     },
     "execution_count": 2,
     "metadata": {},
     "output_type": "execute_result"
    }
   ],
   "source": [
    "LeadLipstick = pd.read_csv('C:/Users/desja/python_course/datasets/LeadLipstick.csv')\n",
    "LeadLipstick.head()"
   ]
  },
  {
   "cell_type": "markdown",
   "id": "ebb5c702",
   "metadata": {},
   "source": [
    "#### Test Assumptions and Run the Analysis\n",
    "There is only one assumption for Chi-Square, and it is that when you are looking at the contingency tables, the expected frequencies for each cell need to have at least 5 entries per cell. In Python, the only way to easily generate an expected frequencies table is actually to run the analysis. So, you will conduct your independent Chi-Square first, and then make sure it meets this assumption!"
   ]
  },
  {
   "cell_type": "code",
   "execution_count": 4,
   "id": "4699b5c3",
   "metadata": {},
   "outputs": [
    {
     "data": {
      "text/html": [
       "<div>\n",
       "<style scoped>\n",
       "    .dataframe tbody tr th:only-of-type {\n",
       "        vertical-align: middle;\n",
       "    }\n",
       "\n",
       "    .dataframe tbody tr th {\n",
       "        vertical-align: top;\n",
       "    }\n",
       "\n",
       "    .dataframe thead th {\n",
       "        text-align: right;\n",
       "    }\n",
       "</style>\n",
       "<table border=\"1\" class=\"dataframe\">\n",
       "  <thead>\n",
       "    <tr style=\"text-align: right;\">\n",
       "      <th>priceCatgry</th>\n",
       "      <th>1</th>\n",
       "      <th>2</th>\n",
       "      <th>3</th>\n",
       "    </tr>\n",
       "    <tr>\n",
       "      <th>prodType</th>\n",
       "      <th></th>\n",
       "      <th></th>\n",
       "      <th></th>\n",
       "    </tr>\n",
       "  </thead>\n",
       "  <tbody>\n",
       "    <tr>\n",
       "      <th>LG</th>\n",
       "      <td>19</td>\n",
       "      <td>43</td>\n",
       "      <td>12</td>\n",
       "    </tr>\n",
       "    <tr>\n",
       "      <th>LP</th>\n",
       "      <td>34</td>\n",
       "      <td>92</td>\n",
       "      <td>23</td>\n",
       "    </tr>\n",
       "  </tbody>\n",
       "</table>\n",
       "</div>"
      ],
      "text/plain": [
       "priceCatgry   1   2   3\n",
       "prodType               \n",
       "LG           19  43  12\n",
       "LP           34  92  23"
      ]
     },
     "execution_count": 4,
     "metadata": {},
     "output_type": "execute_result"
    }
   ],
   "source": [
    "LeadLipstick_crosstab = pd.crosstab(LeadLipstick['prodType'], LeadLipstick['priceCatgry'])\n",
    "LeadLipstick_crosstab"
   ]
  },
  {
   "cell_type": "markdown",
   "id": "afcbd04d",
   "metadata": {},
   "source": [
    "#### Results\n",
    "The arguments for this function is the columns in your data frame you want to use to create the crosstab.\n",
    "And the above is the result:\n",
    "\n",
    "#### Note \n",
    "The three price categories are on the top, and the two different product types are along the side. What is shown in the cells are how many products fit in both categories. For instance, there are 19 lip glosses less than 5 euros."
   ]
  },
  {
   "cell_type": "code",
   "execution_count": null,
   "id": "e56d6a1c",
   "metadata": {},
   "outputs": [],
   "source": [
    "#### Running the Independent Chi-Square\n",
    "Once you have the contingency table, then you can run the function stats.chi2_contingency on the contingency table you have created:"
   ]
  },
  {
   "cell_type": "code",
   "execution_count": 5,
   "id": "1516953b",
   "metadata": {},
   "outputs": [
    {
     "data": {
      "text/plain": [
       "Chi2ContingencyResult(statistic=0.2969891724608704, pvalue=0.8620046738525345, dof=2, expected_freq=array([[17.58744395, 44.79820628, 11.61434978],\n",
       "       [35.41255605, 90.20179372, 23.38565022]]))"
      ]
     },
     "execution_count": 5,
     "metadata": {},
     "output_type": "execute_result"
    }
   ],
   "source": [
    "stats.chi2_contingency(LeadLipstick_crosstab)"
   ]
  },
  {
   "cell_type": "markdown",
   "id": "2d88f917",
   "metadata": {},
   "source": [
    "#### Results\n",
    "statistic=0.2969891724608704 the first value is the Chi-Square statistic\n",
    "pvalue at 0.86 is higher than the pvalue of 0.05 which means there is no significant relationship between product type and product price.\n",
    "Neither lipstick nor lip gloss is pricier or cheaper than the other\n",
    "\n",
    "#### Test the Assumption of 5 Cases per Expected Cell\n",
    "The last piece of the output, labeled array, is your expected count contingency table, albeit not a very pretty one! The expected count is what you would expect to happen if there was no relationship between the two variables. Since all of these values are over 5, this means that the assumption has been met, and you are free to present and discuss these results without any limitations!"
   ]
  }
 ],
 "metadata": {
  "kernelspec": {
   "display_name": "Python 3 (ipykernel)",
   "language": "python",
   "name": "python3"
  },
  "language_info": {
   "codemirror_mode": {
    "name": "ipython",
    "version": 3
   },
   "file_extension": ".py",
   "mimetype": "text/x-python",
   "name": "python",
   "nbconvert_exporter": "python",
   "pygments_lexer": "ipython3",
   "version": "3.11.5"
  }
 },
 "nbformat": 4,
 "nbformat_minor": 5
}
