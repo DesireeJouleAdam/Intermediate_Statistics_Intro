{
 "cells": [
  {
   "cell_type": "markdown",
   "id": "0ee5f1b1",
   "metadata": {},
   "source": [
    "### To determine whether the Fairway average has improved from 2010 to 2018 for the same golfers using a dependent t-test\n",
    "For this test all you need is pandas and stats\n",
    "\n",
    "import pandas as pd\n",
    "from scipy import stats\n",
    "\n",
    "No need for data wrangling as the set has been prepared for dependent t-testing"
   ]
  },
  {
   "cell_type": "markdown",
   "id": "08a1969e",
   "metadata": {},
   "source": [
    "### Test Assumptions\n",
    "\n",
    "The assumptions for a dependent t-test is that both time points in the independent variable will be normally distributed. That is easy to check woth pandas .hist function"
   ]
  },
  {
   "cell_type": "markdown",
   "id": "84379b44",
   "metadata": {},
   "source": [
    "golf['2010_FairwayAvg'].hist\n",
    "golf['2018_FairwayAvg'].hist"
   ]
  },
  {
   "cell_type": "markdown",
   "id": "ddd5b68f",
   "metadata": {},
   "source": [
    "#### Running the Analysis\n",
    "Use stats.ttest_rel function which is for the dependent t-test, then () put in the variables you are trying to compare\n",
    "start.ttest_rel(golf['2010_FairwayAvg'], golf['2018_FairwayAvg'])\n",
    "pvalue=0.32 no significant difference from Fairway averages between these golfers from 2010 to 2018 (unfortunate - )it had been changes you would need to check means but since pvalue is greater than 0.05 there is no additional work to be done. \n"
   ]
  }
 ],
 "metadata": {
  "kernelspec": {
   "display_name": "Python 3 (ipykernel)",
   "language": "python",
   "name": "python3"
  },
  "language_info": {
   "codemirror_mode": {
    "name": "ipython",
    "version": 3
   },
   "file_extension": ".py",
   "mimetype": "text/x-python",
   "name": "python",
   "nbconvert_exporter": "python",
   "pygments_lexer": "ipython3",
   "version": "3.11.5"
  }
 },
 "nbformat": 4,
 "nbformat_minor": 5
}
